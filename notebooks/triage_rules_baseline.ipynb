{
 "cells": [
  {
   "cell_type": "markdown",
   "id": "162e5ea7",
   "metadata": {},
   "source": [
    "# Clinical NLP triage (rules-first POC)\n",
    "Carga léxico, puntúa notas y exporta `outputs/predictions.csv`."
   ]
  },
  {
   "cell_type": "code",
   "execution_count": null,
   "id": "9c8c4b83",
   "metadata": {},
   "outputs": [],
   "source": [
    "import pandas as pd\n",
    "lex = pd.read_csv('data/lexicon_redflags.csv'); notes = pd.read_csv('data/notes_synthetic.csv')\n",
    "lex.head(), notes.head()"
   ]
  },
  {
   "cell_type": "code",
   "execution_count": null,
   "id": "06b20e27",
   "metadata": {},
   "outputs": [],
   "source": [
    "import re\n",
    "def tokenize(text): return re.findall(r\"\\w+[áéíóúüñÁÉÍÓÚÜÑ-]*\", text.lower())\n",
    "def negated(text, term, window=4):\n",
    "    t = tokenize(text); tt = tokenize(term)\n",
    "    for i in range(len(t)-len(tt)+1):\n",
    "        if t[i:i+len(tt)] == tt:\n",
    "            if any(x in [\"no\",\"niega\",\"sin\"] for x in t[max(0,i-window):i]): return True\n",
    "    return False"
   ]
  },
  {
   "cell_type": "code",
   "execution_count": null,
   "id": "a5c2ed11",
   "metadata": {},
   "outputs": [],
   "source": [
    "rows = []\n",
    "for _, r in notes.iterrows():\n",
    "    s=0; hits=[]\n",
    "    for _, w in lex.iterrows():\n",
    "        term=str(w[\"termino\"]).lower()\n",
    "        if term in r[\"triage_note\"].lower() and not negated(r[\"triage_note\"], term):\n",
    "            s += int(w[\"peso\"]); hits.append(term)\n",
    "    band = \"LOW\" if s<3 else (\"MODERATE\" if s<7 else \"HIGH\")\n",
    "    rows.append({\"id\": r[\"id\"], \"chief_complaint\": r[\"chief_complaint\"], \"score\": s, \"risk_band\": band, \"hits\": \";\".join(sorted(set(hits))) })\n",
    "pred = pd.DataFrame(rows).sort_values([\"risk_band\",\"score\"], ascending=[False, False])\n",
    "pred"
   ]
  },
  {
   "cell_type": "code",
   "execution_count": null,
   "id": "47c7f8c0",
   "metadata": {},
   "outputs": [],
   "source": [
    "import os\n",
    "os.makedirs('outputs', exist_ok=True)\n",
    "pred.to_csv('outputs/predictions.csv', index=False, encoding='utf-8')\n",
    "print('Saved outputs/predictions.csv')"
   ]
  }
 ],
 "metadata": {},
 "nbformat": 4,
 "nbformat_minor": 5
}
